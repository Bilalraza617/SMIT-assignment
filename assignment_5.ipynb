{
 "cells": [
  {
   "cell_type": "code",
   "execution_count": 3,
   "id": "22ced093-e59c-4d37-baaf-5abeeade6a7b",
   "metadata": {},
   "outputs": [
    {
     "name": "stdout",
     "output_type": "stream",
     "text": [
      "The maximum of 10 , 5 , and 20 is: 20\n"
     ]
    }
   ],
   "source": [
    "def max_of_three(a, b, c):\n",
    "\n",
    "  if a >= b and a >= c:\n",
    "    return a\n",
    "  elif b >= a and b >= c:\n",
    "    return b\n",
    "  else:\n",
    "    return c\n",
    "\n",
    "num1 = 10\n",
    "num2 = 5\n",
    "num3 = 20\n",
    "\n",
    "maximum = max_of_three(num1, num2, num3)\n",
    "print(\"The maximum of\", num1, \",\", num2, \", and\", num3, \"is:\", maximum)"
   ]
  },
  {
   "cell_type": "code",
   "execution_count": 9,
   "id": "10c7b44b-c73a-4e03-8126-233de587039f",
   "metadata": {},
   "outputs": [
    {
     "name": "stdout",
     "output_type": "stream",
     "text": [
      "The sum of the numbers in the list is: 20\n"
     ]
    }
   ],
   "source": [
    "def sum_list(numbers):\n",
    "    return sum(numbers)\n",
    "\n",
    "sample_list = [8, 2, 3, 0, 7]\n",
    "result = sum_list(sample_list)\n",
    "print(f\"The sum of the numbers in the list is: {result}\")\n"
   ]
  },
  {
   "cell_type": "code",
   "execution_count": 14,
   "id": "56e7ee76-9e4b-4e01-bdd6-9eeba018784e",
   "metadata": {},
   "outputs": [
    {
     "name": "stdout",
     "output_type": "stream",
     "text": [
      "the multiplication of the all number in list:-336\n"
     ]
    }
   ],
   "source": [
    "def multyply_list(numbers):\n",
    "    result = 1\n",
    "    for num in numbers:\n",
    "        result *= num\n",
    "    return result\n",
    "sample_list = [8, 2, 3, -1, 7]\n",
    "result = multyply_list(sample_list)\n",
    "print(f\"the multiplication of the all number in list:{result}\")\n",
    "    "
   ]
  },
  {
   "cell_type": "code",
   "execution_count": 16,
   "id": "7f468abb-8008-481a-9669-33ffb379b86d",
   "metadata": {},
   "outputs": [
    {
     "name": "stdout",
     "output_type": "stream",
     "text": [
      "this is the reversed string string:dcba4321\n"
     ]
    }
   ],
   "source": [
    "def reverse_string(s):\n",
    "    return s[::-1]\n",
    "\n",
    "sample_string = \"1234abcd\"\n",
    "reversed_string = reverse_string(sample_string)\n",
    "print(f\"this is the reversed string string:{reversed_string}\")\n",
    "    "
   ]
  },
  {
   "cell_type": "code",
   "execution_count": 20,
   "id": "c73ee463-6611-4ac4-82b4-938118136073",
   "metadata": {},
   "outputs": [
    {
     "name": "stdout",
     "output_type": "stream",
     "text": [
      "The factorial of 5 is: 120\n"
     ]
    }
   ],
   "source": [
    "def factorial(n):\n",
    "    if n < 0:\n",
    "        raise ValueError(\"Factorial is not defined for negative numbers.\")\n",
    "    elif n == 0 or n == 1:\n",
    "        return 1\n",
    "    else:\n",
    "        result = 1\n",
    "        for i in range(2, n + 1):\n",
    "            result *= i\n",
    "        return result\n",
    "\n",
    "number = 5\n",
    "print(f\"The factorial of {number} is: {factorial(number)}\")\n"
   ]
  },
  {
   "cell_type": "code",
   "execution_count": 2,
   "id": "764748d4-1b00-4c5c-a58c-2859304fb117",
   "metadata": {},
   "outputs": [
    {
     "name": "stdout",
     "output_type": "stream",
     "text": [
      "True\n",
      "False\n"
     ]
    }
   ],
   "source": [
    "def is_in_range(number, start, end):\n",
    "\n",
    "    return start <= number <= end\n",
    "\n",
    "print(is_in_range(5, 1, 10))  \n",
    "print(is_in_range(15, 1, 10)) \n"
   ]
  },
  {
   "cell_type": "code",
   "execution_count": 12,
   "id": "5bcb69ec-caf9-4114-9915-634dd8f28743",
   "metadata": {},
   "outputs": [
    {
     "name": "stdout",
     "output_type": "stream",
     "text": [
      "No. of Upper case characters : 3\n",
      "No. of Lower case Characters : 12\n"
     ]
    }
   ],
   "source": [
    "def count_case_letters(input_string):\n",
    "\n",
    "    upper_count = sum(1 for char in input_string if char.isupper())\n",
    "    lower_count = sum(1 for char in input_string if char.islower())\n",
    "\n",
    "    return {\"Upper case\": upper_count, \"Lower case\": lower_count}\n",
    "\n",
    "sample_string = 'The quick Brow Fox'\n",
    "result = count_case_letters(sample_string)\n",
    "print(\"No. of Upper case characters :\", result[\"Upper case\"])\n",
    "print(\"No. of Lower case Characters :\", result[\"Lower case\"])\n"
   ]
  },
  {
   "cell_type": "code",
   "execution_count": 10,
   "id": "34efebe6-b2d3-4d9a-ba1d-d8b3e9e21c19",
   "metadata": {},
   "outputs": [
    {
     "ename": "NameError",
     "evalue": "name 'sample_list' is not defined",
     "output_type": "error",
     "traceback": [
      "\u001b[1;31m---------------------------------------------------------------------------\u001b[0m",
      "\u001b[1;31mNameError\u001b[0m                                 Traceback (most recent call last)",
      "Cell \u001b[1;32mIn[10], line 11\u001b[0m\n\u001b[0;32m      8\u001b[0m             seen\u001b[38;5;241m.\u001b[39madd(item)\n\u001b[0;32m      9\u001b[0m     \u001b[38;5;28;01mreturn\u001b[39;00m unique_list\n\u001b[1;32m---> 11\u001b[0m unique_list_ordered \u001b[38;5;241m=\u001b[39m get_unique_elements_ordered(sample_list)\n\u001b[0;32m     12\u001b[0m \u001b[38;5;28mprint\u001b[39m(\u001b[38;5;124m\"\u001b[39m\u001b[38;5;124mUnique List (Ordered):\u001b[39m\u001b[38;5;124m\"\u001b[39m, unique_list_ordered)\n",
      "\u001b[1;31mNameError\u001b[0m: name 'sample_list' is not defined"
     ]
    }
   ],
   "source": [
    "def get_unique_elements_ordered(input_list):\n",
    "   \n",
    "    seen = set()\n",
    "    unique_list = []\n",
    "    for item in input_list:\n",
    "        if item not in seen:\n",
    "            unique_list.append(item)\n",
    "            seen.add(item)\n",
    "    return unique_list\n",
    "\n",
    "unique_list_ordered = get_unique_elements_ordered(sample_list)\n",
    "print(\"Unique List (Ordered):\", unique_list_ordered)\n"
   ]
  },
  {
   "cell_type": "markdown",
   "id": "c01e8bd1-7b85-424b-9107-ba2d3eaea13b",
   "metadata": {},
   "source": [
    "### FUNCTIONS ASSIGNMENT 2\n"
   ]
  },
  {
   "cell_type": "code",
   "execution_count": 15,
   "id": "2ec7ee8f-a498-4cab-9b7f-deb2afeee2d7",
   "metadata": {},
   "outputs": [
    {
     "name": "stdout",
     "output_type": "stream",
     "text": [
      "2002, 2009, 2016, 2023, 2037, 2044, 2051, 2058, 2072, 2079, 2086, 2093, 2107, 2114, 2121, 2128, 2142, 2149, 2156, 2163, 2177, 2184, 2191, 2198, 2212, 2219, 2226, 2233, 2247, 2254, 2261, 2268, 2282, 2289, 2296, 2303, 2317, 2324, 2331, 2338, 2352, 2359, 2366, 2373, 2387, 2394, 2401, 2408, 2422, 2429, 2436, 2443, 2457, 2464, 2471, 2478, 2492, 2499, 2506, 2513, 2527, 2534, 2541, 2548, 2562, 2569, 2576, 2583, 2597, 2604, 2611, 2618, 2632, 2639, 2646, 2653, 2667, 2674, 2681, 2688, 2702, 2709, 2716, 2723, 2737, 2744, 2751, 2758, 2772, 2779, 2786, 2793, 2807, 2814, 2821, 2828, 2842, 2849, 2856, 2863, 2877, 2884, 2891, 2898, 2912, 2919, 2926, 2933, 2947, 2954, 2961, 2968, 2982, 2989, 2996, 3003, 3017, 3024, 3031, 3038, 3052, 3059, 3066, 3073, 3087, 3094, 3101, 3108, 3122, 3129, 3136, 3143, 3157, 3164, 3171, 3178, 3192, 3199\n"
     ]
    }
   ],
   "source": [
    "def find_numbers():\n",
    "   \n",
    "    result = [str(num) for num in range(2000, 3201) if num % 7 == 0 and num % 5 != 0]\n",
    "    return \", \".join(result)\n",
    "\n",
    "output = find_numbers()\n",
    "print(output)\n"
   ]
  },
  {
   "cell_type": "code",
   "execution_count": 19,
   "id": "07d1e0fa-aa86-4c15-a44b-9468a5922775",
   "metadata": {},
   "outputs": [
    {
     "name": "stdout",
     "output_type": "stream",
     "text": [
      "Enter comma-separated values for C:  12,56,2\n"
     ]
    },
    {
     "name": "stdout",
     "output_type": "stream",
     "text": [
      "16, 7, 39\n"
     ]
    }
   ],
   "source": [
    "import math\n",
    "\n",
    "def calculate_values():\n",
    "  \n",
    "    A = 50\n",
    "    B = 30\n",
    "\n",
    "    C_values = input(\"Enter comma-separated values for C: \").split(',')\n",
    "    \n",
    "    results = [\n",
    "        str(round(math.sqrt((2 * A * B) / int(C))))\n",
    "        for C in C_values\n",
    "    ]\n",
    "    \n",
    "    return \", \".join(results)\n",
    "\n",
    "\n",
    "output = calculate_values()\n",
    "print(output)\n"
   ]
  },
  {
   "cell_type": "code",
   "execution_count": 21,
   "id": "b3e23b14-d6a3-41b2-8132-e1dd6ba827cf",
   "metadata": {},
   "outputs": [
    {
     "name": "stdout",
     "output_type": "stream",
     "text": [
      "Enter a comma-separated sequence of words:  56,23,89\n"
     ]
    },
    {
     "name": "stdout",
     "output_type": "stream",
     "text": [
      "23, 56, 89\n"
     ]
    }
   ],
   "source": [
    "def sort_words():\n",
    "\n",
    "    words = input(\"Enter a comma-separated sequence of words: \").split(',')\n",
    "\n",
    "    sorted_words = sorted(words)\n",
    "\n",
    "    return \", \".join(sorted_words)\n",
    "\n",
    "\n",
    "output = sort_words()\n",
    "print(output)\n",
    "\n"
   ]
  },
  {
   "cell_type": "code",
   "execution_count": 23,
   "id": "d5066dac-c41a-49f5-bdee-7c0967eb8dec",
   "metadata": {},
   "outputs": [
    {
     "name": "stdout",
     "output_type": "stream",
     "text": [
      "Enter lines of text (press Enter twice to stop):\n"
     ]
    },
    {
     "name": "stdout",
     "output_type": "stream",
     "text": [
      " HELLO HASSAN\n",
      " KIA HAL CHAL HEI\n",
      " \n"
     ]
    },
    {
     "name": "stdout",
     "output_type": "stream",
     "text": [
      "HELLO HASSAN\n",
      "KIA HAL CHAL HEI\n"
     ]
    }
   ],
   "source": [
    "def capitalize_lines():\n",
    "\n",
    "    print(\"Enter lines of text (press Enter twice to stop):\")\n",
    "    lines = []\n",
    "\n",
    "    while True:\n",
    "        line = input()\n",
    "        if line.strip() == \"\":  \n",
    "            break\n",
    "        lines.append(line.upper())\n",
    "\n",
    "    for line in lines:\n",
    "        print(line)\n",
    "\n",
    "\n",
    "capitalize_lines()\n"
   ]
  },
  {
   "cell_type": "code",
   "execution_count": 25,
   "id": "e321b5a7-ebbf-4463-bd6e-c6a30454e1a4",
   "metadata": {},
   "outputs": [
    {
     "name": "stdout",
     "output_type": "stream",
     "text": [
      "Enter a sentence:  kia bahu\n"
     ]
    },
    {
     "name": "stdout",
     "output_type": "stream",
     "text": [
      "a appeared 2 times\n",
      "e appeared 0 times\n",
      "i appeared 1 time\n",
      "o appeared 0 times\n",
      "u appeared 1 time\n"
     ]
    }
   ],
   "source": [
    "def count_vowels():\n",
    "\n",
    "    vowels = \"aeiou\"\n",
    "    sentence = input(\"Enter a sentence: \").lower()\n",
    "\n",
    "    vowel_counts = {vowel: sentence.count(vowel) for vowel in vowels}\n",
    "\n",
    "    for vowel, count in vowel_counts.items():\n",
    "        print(f\"{vowel} appeared {count} time{'s' if count != 1 else ''}\")\n",
    "\n",
    "\n",
    "count_vowels()\n"
   ]
  },
  {
   "cell_type": "code",
   "execution_count": 27,
   "id": "cd78a348-4b6d-4b52-9cc9-1edddf913e43",
   "metadata": {},
   "outputs": [
    {
     "name": "stdout",
     "output_type": "stream",
     "text": [
      "[2000, 2002, 2004, 2006, 2008, 2020, 2022, 2024, 2026, 2028, 2040, 2042, 2044, 2046, 2048, 2060, 2062, 2064, 2066, 2068, 2080, 2082, 2084, 2086, 2088, 2200, 2202, 2204, 2206, 2208, 2220, 2222, 2224, 2226, 2228, 2240, 2242, 2244, 2246, 2248, 2260, 2262, 2264, 2266, 2268, 2280, 2282, 2284, 2286, 2288, 2400, 2402, 2404, 2406, 2408, 2420, 2422, 2424, 2426, 2428, 2440, 2442, 2444, 2446, 2448, 2460, 2462, 2464, 2466, 2468, 2480, 2482, 2484, 2486, 2488, 2600, 2602, 2604, 2606, 2608, 2620, 2622, 2624, 2626, 2628, 2640, 2642, 2644, 2646, 2648, 2660, 2662, 2664, 2666, 2668, 2680, 2682, 2684, 2686, 2688, 2800, 2802, 2804, 2806, 2808, 2820, 2822, 2824, 2826, 2828, 2840, 2842, 2844, 2846, 2848, 2860, 2862, 2864, 2866, 2868, 2880, 2882, 2884, 2886, 2888]\n"
     ]
    }
   ],
   "source": [
    "def find_all_even_digit_numbers():\n",
    "\n",
    "    even_digit_numbers = [\n",
    "        num for num in range(1000, 3001)\n",
    "        if all(int(digit) % 2 == 0 for digit in str(num))\n",
    "    ]\n",
    "    return even_digit_numbers\n",
    "\n",
    "result = find_all_even_digit_numbers()\n",
    "print(result)\n"
   ]
  },
  {
   "cell_type": "code",
   "execution_count": 31,
   "id": "1a1798e0-2776-4461-b18a-892ac54d5df2",
   "metadata": {},
   "outputs": [
    {
     "name": "stdout",
     "output_type": "stream",
     "text": [
      "Enter comma-separated 4-digit binary numbers:  1001,000,001,0010\n"
     ]
    },
    {
     "name": "stdout",
     "output_type": "stream",
     "text": [
      "000\n"
     ]
    }
   ],
   "source": [
    "def find_divisible_by_5():\n",
    "\n",
    "    binary_numbers = input(\"Enter comma-separated 4-digit binary numbers: \").split(',')\n",
    "\n",
    "    divisible_by_5 = [\n",
    "        binary for binary in binary_numbers\n",
    "        if int(binary, 2) % 5 == 0\n",
    "    ]\n",
    "    print(\", \".join(divisible_by_5))\n",
    "\n",
    "\n",
    "find_divisible_by_5()\n"
   ]
  },
  {
   "cell_type": "code",
   "execution_count": 33,
   "id": "4a70202d-a3d9-4a1e-826f-ff12f95847b1",
   "metadata": {},
   "outputs": [
    {
     "name": "stdout",
     "output_type": "stream",
     "text": [
      "Enter a sentence:  hassan sahab\n"
     ]
    },
    {
     "name": "stdout",
     "output_type": "stream",
     "text": [
      "LETTERS 11\n",
      "DIGITS 0\n"
     ]
    }
   ],
   "source": [
    "def count_letters_and_digits():\n",
    "    \n",
    "    sentence = input(\"Enter a sentence: \")\n",
    "\n",
    "    letters = sum(1 for char in sentence if char.isalpha())  \n",
    "    digits = sum(1 for char in sentence if char.isdigit())  \n",
    "\n",
    "    print(f\"LETTERS {letters}\")\n",
    "    print(f\"DIGITS {digits}\")\n",
    "\n",
    "count_letters_and_digits()\n"
   ]
  }
 ],
 "metadata": {
  "kernelspec": {
   "display_name": "Python 3 (ipykernel)",
   "language": "python",
   "name": "python3"
  },
  "language_info": {
   "codemirror_mode": {
    "name": "ipython",
    "version": 3
   },
   "file_extension": ".py",
   "mimetype": "text/x-python",
   "name": "python",
   "nbconvert_exporter": "python",
   "pygments_lexer": "ipython3",
   "version": "3.12.7"
  }
 },
 "nbformat": 4,
 "nbformat_minor": 5
}
