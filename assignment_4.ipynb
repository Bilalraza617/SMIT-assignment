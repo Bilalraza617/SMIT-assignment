{
 "cells": [
  {
   "cell_type": "markdown",
   "id": "6c970b7f-eedb-46e8-9c18-c308e14f5566",
   "metadata": {},
   "source": [
    "### LIST ASSIGNMENT"
   ]
  },
  {
   "cell_type": "code",
   "execution_count": 4,
   "id": "60701bb0-0c4a-41b8-a5a5-389ac7724608",
   "metadata": {},
   "outputs": [
    {
     "name": "stdin",
     "output_type": "stream",
     "text": [
      "Enter the elements of the list separated by spaces:  20 60 30 10\n"
     ]
    },
    {
     "name": "stdout",
     "output_type": "stream",
     "text": [
      "Original list: ['20', '60', '30', '10']\n",
      "Alternate elements: ['20', '30']\n"
     ]
    }
   ],
   "source": [
    "# Input: Accept a list from the user\n",
    "user_input = input(\"Enter the elements of the list separated by spaces: \")\n",
    "\n",
    "# Convert the input string into a list\n",
    "user_list = user_input.split()\n",
    "\n",
    "# Print the alternate elements of the list\n",
    "alternate_elements = user_list[::2]  # Slice the list to get every alternate element\n",
    "\n",
    "print(\"Original list:\", user_list)\n",
    "print(\"Alternate elements:\", alternate_elements)\n"
   ]
  },
  {
   "cell_type": "code",
   "execution_count": 6,
   "id": "262a1c85-af68-4dca-900a-b32ffde30c39",
   "metadata": {},
   "outputs": [
    {
     "name": "stdin",
     "output_type": "stream",
     "text": [
      "Enter the elements of the list separated by spaces:  20 60 52 90\n"
     ]
    },
    {
     "name": "stdout",
     "output_type": "stream",
     "text": [
      "Original list: ['20', '60', '52', '90']\n",
      "Reversed list: ['90', '52', '60', '20']\n"
     ]
    }
   ],
   "source": [
    "# Input: Accept a list from the user\n",
    "user_input = input(\"Enter the elements of the list separated by spaces: \")\n",
    "\n",
    "# Convert the input string into a list\n",
    "user_list = user_input.split()\n",
    "\n",
    "# Reverse the list using slicing\n",
    "reversed_list = user_list[::-1]\n",
    "\n",
    "# Output the reversed list\n",
    "print(\"Original list:\", user_list)\n",
    "print(\"Reversed list:\", reversed_list)\n"
   ]
  },
  {
   "cell_type": "code",
   "execution_count": 8,
   "id": "890aa62e-3f09-4a8d-9a94-ded0aa4dc742",
   "metadata": {},
   "outputs": [
    {
     "name": "stdin",
     "output_type": "stream",
     "text": [
      "Enter numbers separated by spaces:  20 60 30\n"
     ]
    },
    {
     "name": "stdout",
     "output_type": "stream",
     "text": [
      "The largest number in the list is: 60.0\n"
     ]
    }
   ],
   "source": [
    "# Input: Accept a list of numbers from the user\n",
    "user_input = input(\"Enter numbers separated by spaces: \")\n",
    "\n",
    "# Convert the input string into a list of numbers\n",
    "num_list = [float(num) for num in user_input.split()]\n",
    "\n",
    "# Find the largest number manually\n",
    "largest = num_list[0]  # Assume the first number is the largest\n",
    "for num in num_list:\n",
    "    if num > largest:\n",
    "        largest = num\n",
    "\n",
    "# Output the largest number\n",
    "print(\"The largest number in the list is:\", largest)\n"
   ]
  },
  {
   "cell_type": "code",
   "execution_count": 10,
   "id": "fcfefea2-0791-402e-b856-6cc081a264a7",
   "metadata": {},
   "outputs": [
    {
     "name": "stdin",
     "output_type": "stream",
     "text": [
      "Enter the elements of the list separated by spaces:  3050 500 660 5450\n"
     ]
    },
    {
     "name": "stdout",
     "output_type": "stream",
     "text": [
      "Original list: ['3050', '500', '660', '5450']\n",
      "Rotated list: ['5450', '3050', '500', '660']\n"
     ]
    }
   ],
   "source": [
    "# Input: Accept a list from the user\n",
    "user_input = input(\"Enter the elements of the list separated by spaces: \")\n",
    "\n",
    "# Convert the input string into a list\n",
    "user_list = user_input.split()\n",
    "\n",
    "# Perform the rotation\n",
    "if user_list:  # Ensure the list is not empty\n",
    "    rotated_list = user_list[-1:] + user_list[:-1]  # Move the last element to the front\n",
    "\n",
    "# Output the rotated list\n",
    "print(\"Original list:\", user_list)\n",
    "print(\"Rotated list:\", rotated_list)\n"
   ]
  },
  {
   "cell_type": "code",
   "execution_count": 12,
   "id": "b32ddac5-62b0-4ba3-bcee-1b582b5602b7",
   "metadata": {},
   "outputs": [
    {
     "name": "stdin",
     "output_type": "stream",
     "text": [
      "Enter a string:  I AM FAST BOWLER\n",
      "Enter the word to delete:  FAST\n"
     ]
    },
    {
     "name": "stdout",
     "output_type": "stream",
     "text": [
      "Modified string: I AM  BOWLER\n"
     ]
    }
   ],
   "source": [
    "# Input: Accept a string from the user\n",
    "input_string = input(\"Enter a string: \")\n",
    "\n",
    "# Input: Accept the word to be deleted\n",
    "word_to_delete = input(\"Enter the word to delete: \")\n",
    "\n",
    "# Remove the word from the string\n",
    "modified_string = input_string.replace(word_to_delete, \"\")\n",
    "\n",
    "# Output the modified string\n",
    "print(\"Modified string:\", modified_string)\n"
   ]
  },
  {
   "cell_type": "code",
   "execution_count": 14,
   "id": "eaa55f8e-2aec-43e8-b0e7-1f01192a6fb9",
   "metadata": {},
   "outputs": [
    {
     "name": "stdin",
     "output_type": "stream",
     "text": [
      "Enter a date in mm/dd/yyyy format:  06/14/2022\n"
     ]
    },
    {
     "name": "stdout",
     "output_type": "stream",
     "text": [
      "June 14, 2022\n"
     ]
    }
   ],
   "source": [
    "# Input: Accept a date in the form mm/dd/yyyy\n",
    "date_input = input(\"Enter a date in mm/dd/yyyy format: \")\n",
    "\n",
    "# Split the input string into month, day, and year\n",
    "month, day, year = date_input.split(\"/\")\n",
    "\n",
    "# List of month names\n",
    "months = [\n",
    "    \"January\", \"February\", \"March\", \"April\", \"May\", \"June\",\n",
    "    \"July\", \"August\", \"September\", \"October\", \"November\", \"December\"\n",
    "]\n",
    "\n",
    "# Get the full month name from the month number\n",
    "month_name = months[int(month) - 1]\n",
    "\n",
    "# Output the date in the desired format\n",
    "print(f\"{month_name} {int(day)}, {year}\")\n",
    "\n"
   ]
  },
  {
   "cell_type": "code",
   "execution_count": 16,
   "id": "bcd81e63-8137-4abd-ba49-21763a4c0b81",
   "metadata": {},
   "outputs": [
    {
     "name": "stdin",
     "output_type": "stream",
     "text": [
      "Enter a sentence:  I LOVE U\n"
     ]
    },
    {
     "name": "stdout",
     "output_type": "stream",
     "text": [
      "Capitalized sentence: I Love U\n"
     ]
    }
   ],
   "source": [
    "# Function to capitalize each word in the string\n",
    "def capitalize_words(sentence):\n",
    "    # Split the sentence into words, capitalize each word, and join them back\n",
    "    return ' '.join(word.capitalize() for word in sentence.split())\n",
    "\n",
    "# Input: Accept a sentence from the user\n",
    "sentence_input = input(\"Enter a sentence: \")\n",
    "\n",
    "# Get the new sentence with each word capitalized\n",
    "capitalized_sentence = capitalize_words(sentence_input)\n",
    "\n",
    "# Output the result\n",
    "print(\"Capitalized sentence:\", capitalized_sentence)\n"
   ]
  },
  {
   "cell_type": "code",
   "execution_count": 26,
   "id": "5ad62791-2b0d-43f3-b2bf-a4e14317ab87",
   "metadata": {},
   "outputs": [
    {
     "name": "stdin",
     "output_type": "stream",
     "text": [
      "Enter number of rows (m):  3\n",
      "Enter number of columns (n):  2\n"
     ]
    },
    {
     "name": "stdout",
     "output_type": "stream",
     "text": [
      "Enter the elements of the 3x2 matrix:\n"
     ]
    },
    {
     "name": "stdin",
     "output_type": "stream",
     "text": [
      "Enter elements of row 1:  6\n",
      "Enter elements of row 2:  8\n",
      "Enter elements of row 3:  6\n"
     ]
    },
    {
     "name": "stdout",
     "output_type": "stream",
     "text": [
      "Sum of row 1 = 6\n",
      "Sum of row 2 = 8\n",
      "Sum of row 3 = 6\n"
     ]
    }
   ],
   "source": [
    "# Function to calculate the sum of each row of the matrix\n",
    "def row_sums(matrix):\n",
    "    for i, row in enumerate(matrix, start=1):\n",
    "        row_sum = sum(row)\n",
    "        print(f\"Sum of row {i} = {row_sum}\")\n",
    "\n",
    "# Input: Accept matrix dimensions (m x n)\n",
    "m = int(input(\"Enter number of rows (m): \"))\n",
    "n = int(input(\"Enter number of columns (n): \"))\n",
    "\n",
    "# Input: Accept matrix elements from the user\n",
    "matrix = []\n",
    "print(f\"Enter the elements of the {m}x{n} matrix:\")\n",
    "for i in range(m):\n",
    "    row = list(map(int, input(f\"Enter elements of row {i + 1}: \").split()))\n",
    "    matrix.append(row)\n",
    "\n",
    "# Calculate and display the sum of each row\n",
    "row_sums(matrix)\n"
   ]
  },
  {
   "cell_type": "code",
   "execution_count": 28,
   "id": "26968403-af1a-4405-8ddf-9e0cc75b6e5a",
   "metadata": {},
   "outputs": [
    {
     "name": "stdin",
     "output_type": "stream",
     "text": [
      "Enter number of rows (n):  6\n",
      "Enter number of columns (m):  8\n"
     ]
    },
    {
     "name": "stdout",
     "output_type": "stream",
     "text": [
      "Enter the elements of the first 6x8 matrix:\n"
     ]
    },
    {
     "name": "stdin",
     "output_type": "stream",
     "text": [
      "Enter elements of row 1:  6\n",
      "Enter elements of row 2:  4\n",
      "Enter elements of row 3:  9\n",
      "Enter elements of row 4:  9\n",
      "Enter elements of row 5:  4\n",
      "Enter elements of row 6:  3\n"
     ]
    },
    {
     "name": "stdout",
     "output_type": "stream",
     "text": [
      "Enter the elements of the second 6x8 matrix:\n"
     ]
    },
    {
     "name": "stdin",
     "output_type": "stream",
     "text": [
      "Enter elements of row 1:  7\n",
      "Enter elements of row 2:  9\n",
      "Enter elements of row 3:  6\n",
      "Enter elements of row 4:  4\n",
      "Enter elements of row 5:  3\n",
      "Enter elements of row 6:  8\n"
     ]
    },
    {
     "ename": "IndexError",
     "evalue": "list index out of range",
     "output_type": "error",
     "traceback": [
      "\u001b[1;31m---------------------------------------------------------------------------\u001b[0m",
      "\u001b[1;31mIndexError\u001b[0m                                Traceback (most recent call last)",
      "Cell \u001b[1;32mIn[28], line 30\u001b[0m\n\u001b[0;32m     27\u001b[0m     matrix2\u001b[38;5;241m.\u001b[39mappend(row)\n\u001b[0;32m     29\u001b[0m \u001b[38;5;66;03m# Add the matrices\u001b[39;00m\n\u001b[1;32m---> 30\u001b[0m sum_matrix \u001b[38;5;241m=\u001b[39m add_matrices(matrix1, matrix2, n, m)\n\u001b[0;32m     32\u001b[0m \u001b[38;5;66;03m# Output the result\u001b[39;00m\n\u001b[0;32m     33\u001b[0m \u001b[38;5;28mprint\u001b[39m(\u001b[38;5;124m\"\u001b[39m\u001b[38;5;124mSum of the matrices:\u001b[39m\u001b[38;5;124m\"\u001b[39m)\n",
      "Cell \u001b[1;32mIn[28], line 7\u001b[0m, in \u001b[0;36madd_matrices\u001b[1;34m(matrix1, matrix2, n, m)\u001b[0m\n\u001b[0;32m      5\u001b[0m     row \u001b[38;5;241m=\u001b[39m []\n\u001b[0;32m      6\u001b[0m     \u001b[38;5;28;01mfor\u001b[39;00m j \u001b[38;5;129;01min\u001b[39;00m \u001b[38;5;28mrange\u001b[39m(m):\n\u001b[1;32m----> 7\u001b[0m         row\u001b[38;5;241m.\u001b[39mappend(matrix1[i][j] \u001b[38;5;241m+\u001b[39m matrix2[i][j])\n\u001b[0;32m      8\u001b[0m     result\u001b[38;5;241m.\u001b[39mappend(row)\n\u001b[0;32m      9\u001b[0m \u001b[38;5;28;01mreturn\u001b[39;00m result\n",
      "\u001b[1;31mIndexError\u001b[0m: list index out of range"
     ]
    }
   ],
   "source": [
    "# Function to add two matrices\n",
    "def add_matrices(matrix1, matrix2, n, m):\n",
    "    result = []\n",
    "    for i in range(n):\n",
    "        row = []\n",
    "        for j in range(m):\n",
    "            row.append(matrix1[i][j] + matrix2[i][j])\n",
    "        result.append(row)\n",
    "    return result\n",
    "\n",
    "# Input: Accept matrix dimensions (n x m)\n",
    "n = int(input(\"Enter number of rows (n): \"))\n",
    "m = int(input(\"Enter number of columns (m): \"))\n",
    "\n",
    "# Input: Accept first matrix elements from the user\n",
    "print(f\"Enter the elements of the first {n}x{m} matrix:\")\n",
    "matrix1 = []\n",
    "for i in range(n):\n",
    "    row = list(map(int, input(f\"Enter elements of row {i + 1}: \").split()))\n",
    "    matrix1.append(row)\n",
    "\n",
    "# Input: Accept second matrix elements from the user\n",
    "print(f\"Enter the elements of the second {n}x{m} matrix:\")\n",
    "matrix2 = []\n",
    "for i in range(n):\n",
    "    row = list(map(int, input(f\"Enter elements of row {i + 1}: \").split()))\n",
    "    matrix2.append(row)\n",
    "\n",
    "# Add the matrices\n",
    "sum_matrix = add_matrices(matrix1, matrix2, n, m)\n",
    "\n",
    "# Output the result\n",
    "print(\"Sum of the matrices:\")\n",
    "for row in sum_matrix:\n",
    "    print(\" \".join(map(str, row)))\n"
   ]
  },
  {
   "cell_type": "code",
   "execution_count": 30,
   "id": "1db38f06-8dd9-4e39-ace2-dbf9f9dbfc08",
   "metadata": {},
   "outputs": [
    {
     "name": "stdin",
     "output_type": "stream",
     "text": [
      "Enter number of rows for the first matrix (n):  3\n",
      "Enter number of columns for the first matrix (m) and rows for the second matrix:  0\n",
      "Enter number of columns for the second matrix (p):  4\n"
     ]
    },
    {
     "name": "stdout",
     "output_type": "stream",
     "text": [
      "Enter the elements of the first 3x0 matrix:\n"
     ]
    },
    {
     "name": "stdin",
     "output_type": "stream",
     "text": [
      "Enter elements of row 1:  5\n",
      "Enter elements of row 2:  8\n",
      "Enter elements of row 3:  3\n"
     ]
    },
    {
     "name": "stdout",
     "output_type": "stream",
     "text": [
      "Enter the elements of the second 0x4 matrix:\n",
      "Product of the matrices:\n",
      "0 0 0 0\n",
      "0 0 0 0\n",
      "0 0 0 0\n"
     ]
    }
   ],
   "source": [
    "# Function to multiply two matrices\n",
    "def multiply_matrices(matrix1, matrix2, n, m, p):\n",
    "    # Result matrix will have dimensions n x p\n",
    "    result = [[0 for _ in range(p)] for _ in range(n)]\n",
    "    \n",
    "    for i in range(n):\n",
    "        for j in range(p):\n",
    "            for k in range(m):\n",
    "                result[i][j] += matrix1[i][k] * matrix2[k][j]\n",
    "    return result\n",
    "\n",
    "# Input: Accept matrix dimensions (n x m) for the first matrix and (m x p) for the second matrix\n",
    "n = int(input(\"Enter number of rows for the first matrix (n): \"))\n",
    "m = int(input(\"Enter number of columns for the first matrix (m) and rows for the second matrix: \"))\n",
    "p = int(input(\"Enter number of columns for the second matrix (p): \"))\n",
    "\n",
    "# Input: Accept the elements of the first matrix (n x m)\n",
    "print(f\"Enter the elements of the first {n}x{m} matrix:\")\n",
    "matrix1 = []\n",
    "for i in range(n):\n",
    "    row = list(map(int, input(f\"Enter elements of row {i + 1}: \").split()))\n",
    "    matrix1.append(row)\n",
    "\n",
    "# Input: Accept the elements of the second matrix (m x p)\n",
    "print(f\"Enter the elements of the second {m}x{p} matrix:\")\n",
    "matrix2 = []\n",
    "for i in range(m):\n",
    "    row = list(map(int, input(f\"Enter elements of row {i + 1}: \").split()))\n",
    "    matrix2.append(row)\n",
    "\n",
    "# Multiply the matrices\n",
    "product_matrix = multiply_matrices(matrix1, matrix2, n, m, p)\n",
    "\n",
    "# Output the result\n",
    "print(\"Product of the matrices:\")\n",
    "for row in product_matrix:\n",
    "    print(\" \".join(map(str, row)))\n"
   ]
  },
  {
   "cell_type": "code",
   "execution_count": null,
   "id": "44be31f2-480e-4b38-bee0-d242fdeb9743",
   "metadata": {},
   "outputs": [],
   "source": []
  }
 ],
 "metadata": {
  "kernelspec": {
   "display_name": "Python 3 (ipykernel)",
   "language": "python",
   "name": "python3"
  },
  "language_info": {
   "codemirror_mode": {
    "name": "ipython",
    "version": 3
   },
   "file_extension": ".py",
   "mimetype": "text/x-python",
   "name": "python",
   "nbconvert_exporter": "python",
   "pygments_lexer": "ipython3",
   "version": "3.12.7"
  }
 },
 "nbformat": 4,
 "nbformat_minor": 5
}
