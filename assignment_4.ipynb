{
 "cells": [
  {
   "cell_type": "markdown",
   "id": "6c970b7f-eedb-46e8-9c18-c308e14f5566",
   "metadata": {},
   "source": [
    "### LIST ASSIGNMENT"
   ]
  },
  {
   "cell_type": "code",
   "execution_count": 4,
   "id": "60701bb0-0c4a-41b8-a5a5-389ac7724608",
   "metadata": {},
   "outputs": [
    {
     "name": "stdout",
     "output_type": "stream",
     "text": [
      "Enter the elements of the list separated by spaces:  20 60 30 10\n"
     ]
    },
    {
     "name": "stdout",
     "output_type": "stream",
     "text": [
      "Original list: ['20', '60', '30', '10']\n",
      "Alternate elements: ['20', '30']\n"
     ]
    }
   ],
   "source": [
    "\n",
    "user_input = input(\"Enter the elements of the list separated by spaces: \")\n",
    "\n",
    "\n",
    "user_list = user_input.split()\n",
    "\n",
    "\n",
    "alternate_elements = user_list[::2]  \n",
    "\n",
    "print(\"Original list:\", user_list)\n",
    "print(\"Alternate elements:\", alternate_elements)\n"
   ]
  },
  {
   "cell_type": "code",
   "execution_count": 6,
   "id": "262a1c85-af68-4dca-900a-b32ffde30c39",
   "metadata": {},
   "outputs": [
    {
     "name": "stdout",
     "output_type": "stream",
     "text": [
      "Enter the elements of the list separated by spaces:  20 60 52 90\n"
     ]
    },
    {
     "name": "stdout",
     "output_type": "stream",
     "text": [
      "Original list: ['20', '60', '52', '90']\n",
      "Reversed list: ['90', '52', '60', '20']\n"
     ]
    }
   ],
   "source": [
    "\n",
    "user_input = input(\"Enter the elements of the list separated by spaces: \")\n",
    "\n",
    "user_list = user_input.split()\n",
    "\n",
    "reversed_list = user_list[::-1]\n",
    "\n",
    "print(\"Original list:\", user_list)\n",
    "print(\"Reversed list:\", reversed_list)\n"
   ]
  },
  {
   "cell_type": "code",
   "execution_count": 8,
   "id": "890aa62e-3f09-4a8d-9a94-ded0aa4dc742",
   "metadata": {},
   "outputs": [
    {
     "name": "stdout",
     "output_type": "stream",
     "text": [
      "Enter numbers separated by spaces:  20 60 30\n"
     ]
    },
    {
     "name": "stdout",
     "output_type": "stream",
     "text": [
      "The largest number in the list is: 60.0\n"
     ]
    }
   ],
   "source": [
    "user_input = input(\"Enter numbers separated by spaces: \")\n",
    "\n",
    "\n",
    "num_list = [float(num) for num in user_input.split()]\n",
    "\n",
    "\n",
    "largest = num_list[0]  \n",
    "for num in num_list:\n",
    "    if num > largest:\n",
    "        largest = num\n",
    "\n",
    "print(\"The largest number in the list is:\", largest)\n"
   ]
  },
  {
   "cell_type": "code",
   "execution_count": 10,
   "id": "fcfefea2-0791-402e-b856-6cc081a264a7",
   "metadata": {},
   "outputs": [
    {
     "name": "stdout",
     "output_type": "stream",
     "text": [
      "Enter the elements of the list separated by spaces:  3050 500 660 5450\n"
     ]
    },
    {
     "name": "stdout",
     "output_type": "stream",
     "text": [
      "Original list: ['3050', '500', '660', '5450']\n",
      "Rotated list: ['5450', '3050', '500', '660']\n"
     ]
    }
   ],
   "source": [
    "\n",
    "user_input = input(\"Enter the elements of the list separated by spaces: \")\n",
    "\n",
    "\n",
    "user_list = user_input.split()\n",
    "\n",
    "\n",
    "if user_list:  \n",
    "    rotated_list = user_list[-1:] + user_list[:-1]  \n",
    "\n",
    "\n",
    "print(\"Original list:\", user_list)\n",
    "print(\"Rotated list:\", rotated_list)\n"
   ]
  },
  {
   "cell_type": "code",
   "execution_count": 12,
   "id": "b32ddac5-62b0-4ba3-bcee-1b582b5602b7",
   "metadata": {},
   "outputs": [
    {
     "name": "stdout",
     "output_type": "stream",
     "text": [
      "Enter a string:  I AM FAST BOWLER\n",
      "Enter the word to delete:  FAST\n"
     ]
    },
    {
     "name": "stdout",
     "output_type": "stream",
     "text": [
      "Modified string: I AM  BOWLER\n"
     ]
    }
   ],
   "source": [
    "\n",
    "input_string = input(\"Enter a string: \")\n",
    "\n",
    "\n",
    "word_to_delete = input(\"Enter the word to delete: \")\n",
    "\n",
    "\n",
    "modified_string = input_string.replace(word_to_delete, \"\")\n",
    "\n",
    "\n",
    "print(\"Modified string:\", modified_string)\n"
   ]
  },
  {
   "cell_type": "code",
   "execution_count": 14,
   "id": "eaa55f8e-2aec-43e8-b0e7-1f01192a6fb9",
   "metadata": {},
   "outputs": [
    {
     "name": "stdout",
     "output_type": "stream",
     "text": [
      "Enter a date in mm/dd/yyyy format:  06/14/2022\n"
     ]
    },
    {
     "name": "stdout",
     "output_type": "stream",
     "text": [
      "June 14, 2022\n"
     ]
    }
   ],
   "source": [
    "\n",
    "date_input = input(\"Enter a date in mm/dd/yyyy format: \")\n",
    "\n",
    "\n",
    "month, day, year = date_input.split(\"/\")\n",
    "\n",
    "\n",
    "months = [\n",
    "    \"January\", \"February\", \"March\", \"April\", \"May\", \"June\",\n",
    "    \"July\", \"August\", \"September\", \"October\", \"November\", \"December\"\n",
    "]\n",
    "\n",
    "month_name = months[int(month) - 1]\n",
    "\n",
    "print(f\"{month_name} {int(day)}, {year}\")\n",
    "\n"
   ]
  },
  {
   "cell_type": "code",
   "execution_count": 16,
   "id": "bcd81e63-8137-4abd-ba49-21763a4c0b81",
   "metadata": {},
   "outputs": [
    {
     "name": "stdout",
     "output_type": "stream",
     "text": [
      "Enter a sentence:  I LOVE U\n"
     ]
    },
    {
     "name": "stdout",
     "output_type": "stream",
     "text": [
      "Capitalized sentence: I Love U\n"
     ]
    }
   ],
   "source": [
    "\n",
    "def capitalize_words(sentence):\n",
    "    return ' '.join(word.capitalize() for word in sentence.split())\n",
    "\n",
    "sentence_input = input(\"Enter a sentence: \")\n",
    "\n",
    "capitalized_sentence = capitalize_words(sentence_input)\n",
    "\n",
    "print(\"Capitalized sentence:\", capitalized_sentence)\n"
   ]
  },
  {
   "cell_type": "code",
   "execution_count": 26,
   "id": "5ad62791-2b0d-43f3-b2bf-a4e14317ab87",
   "metadata": {},
   "outputs": [
    {
     "name": "stdout",
     "output_type": "stream",
     "text": [
      "Enter number of rows (m):  3\n",
      "Enter number of columns (n):  2\n"
     ]
    },
    {
     "name": "stdout",
     "output_type": "stream",
     "text": [
      "Enter the elements of the 3x2 matrix:\n"
     ]
    },
    {
     "name": "stdout",
     "output_type": "stream",
     "text": [
      "Enter elements of row 1:  6\n",
      "Enter elements of row 2:  8\n",
      "Enter elements of row 3:  6\n"
     ]
    },
    {
     "name": "stdout",
     "output_type": "stream",
     "text": [
      "Sum of row 1 = 6\n",
      "Sum of row 2 = 8\n",
      "Sum of row 3 = 6\n"
     ]
    }
   ],
   "source": [
    "\n",
    "def row_sums(matrix):\n",
    "    for i, row in enumerate(matrix, start=1):\n",
    "        row_sum = sum(row)\n",
    "        print(f\"Sum of row {i} = {row_sum}\")\n",
    "\n",
    "m = int(input(\"Enter number of rows (m): \"))\n",
    "n = int(input(\"Enter number of columns (n): \"))\n",
    "\n",
    "matrix = []\n",
    "print(f\"Enter the elements of the {m}x{n} matrix:\")\n",
    "for i in range(m):\n",
    "    row = list(map(int, input(f\"Enter elements of row {i + 1}: \").split()))\n",
    "    matrix.append(row)\n",
    "\n",
    "row_sums(matrix)\n"
   ]
  },
  {
   "cell_type": "code",
   "execution_count": 1,
   "id": "26968403-af1a-4405-8ddf-9e0cc75b6e5a",
   "metadata": {},
   "outputs": [
    {
     "name": "stdout",
     "output_type": "stream",
     "text": [
      "Enter the elements of the first 2x2 matrix:\n",
      "Enter the elements of the second 2x2 matrix:\n"
     ]
    },
    {
     "ename": "IndexError",
     "evalue": "list index out of range",
     "output_type": "error",
     "traceback": [
      "\u001b[1;31m---------------------------------------------------------------------------\u001b[0m",
      "\u001b[1;31mIndexError\u001b[0m                                Traceback (most recent call last)",
      "Cell \u001b[1;32mIn[1], line 25\u001b[0m\n\u001b[0;32m     22\u001b[0m     row \u001b[38;5;241m=\u001b[39m \u001b[38;5;28mlist\u001b[39m(\u001b[38;5;28mmap\u001b[39m(\u001b[38;5;28mint\u001b[39m, \u001b[38;5;28minput\u001b[39m(\u001b[38;5;124mf\u001b[39m\u001b[38;5;124m\"\u001b[39m\u001b[38;5;124mEnter elements of row \u001b[39m\u001b[38;5;132;01m{\u001b[39;00mi\u001b[38;5;250m \u001b[39m\u001b[38;5;241m+\u001b[39m\u001b[38;5;250m \u001b[39m\u001b[38;5;241m1\u001b[39m\u001b[38;5;132;01m}\u001b[39;00m\u001b[38;5;124m: \u001b[39m\u001b[38;5;124m\"\u001b[39m)\u001b[38;5;241m.\u001b[39msplit()))\n\u001b[0;32m     23\u001b[0m     matrix2\u001b[38;5;241m.\u001b[39mappend(row)\n\u001b[1;32m---> 25\u001b[0m sum_matrix \u001b[38;5;241m=\u001b[39m \u001b[43madd_matrices\u001b[49m\u001b[43m(\u001b[49m\u001b[43mmatrix1\u001b[49m\u001b[43m,\u001b[49m\u001b[43m \u001b[49m\u001b[43mmatrix2\u001b[49m\u001b[43m,\u001b[49m\u001b[43m \u001b[49m\u001b[43mn\u001b[49m\u001b[43m,\u001b[49m\u001b[43m \u001b[49m\u001b[43mm\u001b[49m\u001b[43m)\u001b[49m\n\u001b[0;32m     27\u001b[0m \u001b[38;5;28mprint\u001b[39m(\u001b[38;5;124m\"\u001b[39m\u001b[38;5;124mSum of the matrices:\u001b[39m\u001b[38;5;124m\"\u001b[39m)\n\u001b[0;32m     28\u001b[0m \u001b[38;5;28;01mfor\u001b[39;00m row \u001b[38;5;129;01min\u001b[39;00m sum_matrix:\n",
      "Cell \u001b[1;32mIn[1], line 6\u001b[0m, in \u001b[0;36madd_matrices\u001b[1;34m(matrix1, matrix2, n, m)\u001b[0m\n\u001b[0;32m      4\u001b[0m     row \u001b[38;5;241m=\u001b[39m []\n\u001b[0;32m      5\u001b[0m     \u001b[38;5;28;01mfor\u001b[39;00m j \u001b[38;5;129;01min\u001b[39;00m \u001b[38;5;28mrange\u001b[39m(m):\n\u001b[1;32m----> 6\u001b[0m         row\u001b[38;5;241m.\u001b[39mappend(\u001b[43mmatrix1\u001b[49m\u001b[43m[\u001b[49m\u001b[43mi\u001b[49m\u001b[43m]\u001b[49m\u001b[43m[\u001b[49m\u001b[43mj\u001b[49m\u001b[43m]\u001b[49m \u001b[38;5;241m+\u001b[39m matrix2[i][j])\n\u001b[0;32m      7\u001b[0m     result\u001b[38;5;241m.\u001b[39mappend(row)\n\u001b[0;32m      8\u001b[0m \u001b[38;5;28;01mreturn\u001b[39;00m result\n",
      "\u001b[1;31mIndexError\u001b[0m: list index out of range"
     ]
    }
   ],
   "source": [
    "def add_matrices(matrix1, matrix2, n, m):\n",
    "    result = []\n",
    "    for i in range(n):\n",
    "        row = []\n",
    "        for j in range(m):\n",
    "            row.append(matrix1[i][j] + matrix2[i][j])\n",
    "        result.append(row)\n",
    "    return result\n",
    "\n",
    "n = int(input(\"Enter number of rows (n): \"))\n",
    "m = int(input(\"Enter number of columns (m): \"))\n",
    "\n",
    "print(f\"Enter the elements of the first {n}x{m} matrix:\")\n",
    "matrix1 = []\n",
    "for i in range(n):\n",
    "    row = list(map(int, input(f\"Enter elements of row {i + 1}: \").split()))\n",
    "    matrix1.append(row)\n",
    "\n",
    "print(f\"Enter the elements of the second {n}x{m} matrix:\")\n",
    "matrix2 = []\n",
    "for i in range(n):\n",
    "    row = list(map(int, input(f\"Enter elements of row {i + 1}: \").split()))\n",
    "    matrix2.append(row)\n",
    "\n",
    "sum_matrix = add_matrices(matrix1, matrix2, n, m)\n",
    "\n",
    "print(\"Sum of the matrices:\")\n",
    "for row in sum_matrix:\n",
    "    print(\" \".join(map(str, row)))\n"
   ]
  },
  {
   "cell_type": "code",
   "execution_count": 30,
   "id": "1db38f06-8dd9-4e39-ace2-dbf9f9dbfc08",
   "metadata": {},
   "outputs": [
    {
     "name": "stdout",
     "output_type": "stream",
     "text": [
      "Enter number of rows for the first matrix (n):  3\n",
      "Enter number of columns for the first matrix (m) and rows for the second matrix:  0\n",
      "Enter number of columns for the second matrix (p):  4\n"
     ]
    },
    {
     "name": "stdout",
     "output_type": "stream",
     "text": [
      "Enter the elements of the first 3x0 matrix:\n"
     ]
    },
    {
     "name": "stdout",
     "output_type": "stream",
     "text": [
      "Enter elements of row 1:  5\n",
      "Enter elements of row 2:  8\n",
      "Enter elements of row 3:  3\n"
     ]
    },
    {
     "name": "stdout",
     "output_type": "stream",
     "text": [
      "Enter the elements of the second 0x4 matrix:\n",
      "Product of the matrices:\n",
      "0 0 0 0\n",
      "0 0 0 0\n",
      "0 0 0 0\n"
     ]
    }
   ],
   "source": [
    "def multiply_matrices(matrix1, matrix2, n, m, p):\n",
    "    result = [[0 for _ in range(p)] for _ in range(n)]\n",
    "    \n",
    "    for i in range(n):\n",
    "        for j in range(p):\n",
    "            for k in range(m):\n",
    "                result[i][j] += matrix1[i][k] * matrix2[k][j]\n",
    "    return result\n",
    "\n",
    "n = int(input(\"Enter number of rows for the first matrix (n): \"))\n",
    "m = int(input(\"Enter number of columns for the first matrix (m) and rows for the second matrix: \"))\n",
    "p = int(input(\"Enter number of columns for the second matrix (p): \"))\n",
    "\n",
    "print(f\"Enter the elements of the first {n}x{m} matrix:\")\n",
    "matrix1 = []\n",
    "for i in range(n):\n",
    "    row = list(map(int, input(f\"Enter elements of row {i + 1}: \").split()))\n",
    "    matrix1.append(row)\n",
    "\n",
    "print(f\"Enter the elements of the second {m}x{p} matrix:\")\n",
    "matrix2 = []\n",
    "for i in range(m):\n",
    "    row = list(map(int, input(f\"Enter elements of row {i + 1}: \").split()))\n",
    "    matrix2.append(row)\n",
    "\n",
    "product_matrix = multiply_matrices(matrix1, matrix2, n, m, p)\n",
    "\n",
    "print(\"Product of the matrices:\")\n",
    "for row in product_matrix:\n",
    "    print(\" \".join(map(str, row)))\n"
   ]
  },
  {
   "cell_type": "code",
   "execution_count": null,
   "id": "44be31f2-480e-4b38-bee0-d242fdeb9743",
   "metadata": {},
   "outputs": [],
   "source": []
  }
 ],
 "metadata": {
  "kernelspec": {
   "display_name": "Python 3",
   "language": "python",
   "name": "python3"
  },
  "language_info": {
   "codemirror_mode": {
    "name": "ipython",
    "version": 3
   },
   "file_extension": ".py",
   "mimetype": "text/x-python",
   "name": "python",
   "nbconvert_exporter": "python",
   "pygments_lexer": "ipython3",
   "version": "3.12.6"
  }
 },
 "nbformat": 4,
 "nbformat_minor": 5
}
