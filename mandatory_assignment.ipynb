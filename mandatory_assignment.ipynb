{
 "cells": [
  {
   "cell_type": "code",
   "execution_count": 2,
   "metadata": {},
   "outputs": [
    {
     "name": "stdout",
     "output_type": "stream",
     "text": [
      "Welcome me ap ki kia madad kar sakta ho??\n",
      "Welcome BIlal, We are pleased that you opened an account in our bank. \n",
      "Your currnet balance is 1000\n"
     ]
    }
   ],
   "source": [
    "import os\n",
    "\n",
    "# Function to create an account\n",
    "def create_account(name, initial_balance=0.0):\n",
    "    account = {\n",
    "        \"name\": name,\n",
    "        \"balance\": initial_balance,\n",
    "        \"transactions\": []\n",
    "    }\n",
    "    return account\n",
    "\n",
    "# Function to deposit money\n",
    "def deposit(account, amount):\n",
    "    if amount <= 0:\n",
    "        print(\"Error: Deposit amount must be positive.\")\n",
    "        return account\n",
    "    account[\"balance\"] += amount\n",
    "    transaction = f\"Deposit: ${amount:.2f}. New Balance: ${account['balance']:.2f}\"\n",
    "    account[\"transactions\"].append(transaction)\n",
    "    save_transaction(account[\"name\"], transaction)\n",
    "    print(f\"{account['name']} deposited ${amount:.2f}. New balance: ${account['balance']:.2f}\")\n",
    "    return account\n",
    "\n",
    "# Function to withdraw money\n",
    "def withdraw(account, amount):\n",
    "    if amount <= 0:\n",
    "        print(\"Error: Withdrawal amount must be positive.\")\n",
    "        return account\n",
    "    if amount > account[\"balance\"]:\n",
    "        print(\"Error: Insufficient balance.\")\n",
    "        return account\n",
    "    account[\"balance\"] -= amount\n",
    "    transaction = f\"Withdrawal: ${amount:.2f}. New Balance: ${account['balance']:.2f}\"\n",
    "    account[\"transactions\"].append(transaction)\n",
    "    save_transaction(account[\"name\"], transaction)\n",
    "    print(f\"{account['name']} withdrew ${amount:.2f}. New balance: ${account['balance']:.2f}\")\n",
    "    return account\n",
    "\n",
    "# Function to check balance\n",
    "def check_balance(account):\n",
    "    print(f\"Current balance for {account['name']}: ${account['balance']:.2f}\")\n",
    "    return account[\"balance\"]\n",
    "\n",
    "# Function to print the transaction statement\n",
    "def print_statement(account):\n",
    "    print(f\"Account statement for {account['name']}:\")\n",
    "    if not account[\"transactions\"]:\n",
    "        print(\"No transactions available.\")\n",
    "    else:\n",
    "        for transaction in account[\"transactions\"]:\n",
    "            print(f\"- {transaction}\")\n",
    "\n",
    "# Function to save transactions to a file\n",
    "def save_transaction(name, transaction):\n",
    "    filename = f\"{name}_transactions.txt\"\n",
    "    with open(filename, \"a\") as file:\n",
    "        file.write(transaction + \"\\n\")\n",
    "\n",
    "# Main Program\n",
    "if __name__ == \"__main__\":\n",
    "    print(\"Welcome to the Banking System!\")\n",
    "    user_account = create_account(\"Johnson Daniel\")\n",
    "    deposit(user_account, 23780)\n",
    "    withdraw(user_account, 15000)\n",
    "    check_balance(user_account)\n",
    "    print_statement(user_account)\n"
   ]
  },
  {
   "cell_type": "code",
   "execution_count": null,
   "metadata": {},
   "outputs": [],
   "source": []
  }
 ],
 "metadata": {
  "kernelspec": {
   "display_name": "Python 3",
   "language": "python",
   "name": "python3"
  },
  "language_info": {
   "codemirror_mode": {
    "name": "ipython",
    "version": 3
   },
   "file_extension": ".py",
   "mimetype": "text/x-python",
   "name": "python",
   "nbconvert_exporter": "python",
   "pygments_lexer": "ipython3",
   "version": "3.12.6"
  }
 },
 "nbformat": 4,
 "nbformat_minor": 2
}
